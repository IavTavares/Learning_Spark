{
 "cells": [
  {
   "cell_type": "code",
   "execution_count": 1,
   "metadata": {},
   "outputs": [],
   "source": [
    "from pyspark.sql import SparkSession\n",
    "from pyspark.sql.functions import col, translate,when,lit\n",
    "from pyspark.sql.types import IntegerType, DoubleType\n",
    "from pyspark.ml.feature import Imputer"
   ]
  },
  {
   "cell_type": "code",
   "execution_count": 2,
   "metadata": {},
   "outputs": [
    {
     "name": "stdout",
     "output_type": "stream",
     "text": [
      "22/07/14 16:09:48 WARN Utils: Your hostname, ivo-Nitro-AN515-57 resolves to a loopback address: 127.0.1.1; using 192.168.1.197 instead (on interface wlp0s20f3)\n",
      "22/07/14 16:09:48 WARN Utils: Set SPARK_LOCAL_IP if you need to bind to another address\n"
     ]
    },
    {
     "name": "stderr",
     "output_type": "stream",
     "text": [
      "Setting default log level to \"WARN\".\n",
      "To adjust logging level use sc.setLogLevel(newLevel). For SparkR, use setLogLevel(newLevel).\n"
     ]
    },
    {
     "name": "stdout",
     "output_type": "stream",
     "text": [
      "22/07/14 16:09:48 WARN NativeCodeLoader: Unable to load native-hadoop library for your platform... using builtin-java classes where applicable\n"
     ]
    }
   ],
   "source": [
    "spark = (SparkSession\n",
    ".builder\n",
    ".appName(\"Spark_ML_APP\")\n",
    ".enableHiveSupport() # we need this to create tables\n",
    ".getOrCreate())\n",
    "sc = spark.sparkContext\n",
    "sc.setLogLevel(\"WARN\")"
   ]
  },
  {
   "cell_type": "code",
   "execution_count": 3,
   "metadata": {},
   "outputs": [],
   "source": [
    "filepath =\"\"\"../data/sf-airbnb.csv\"\"\""
   ]
  },
  {
   "cell_type": "code",
   "execution_count": 4,
   "metadata": {},
   "outputs": [
    {
     "name": "stdout",
     "output_type": "stream",
     "text": [
      "root\n",
      " |-- id: string (nullable = true)\n",
      " |-- listing_url: string (nullable = true)\n",
      " |-- scrape_id: string (nullable = true)\n",
      " |-- last_scraped: string (nullable = true)\n",
      " |-- name: string (nullable = true)\n",
      " |-- summary: string (nullable = true)\n",
      " |-- space: string (nullable = true)\n",
      " |-- description: string (nullable = true)\n",
      " |-- experiences_offered: string (nullable = true)\n",
      " |-- neighborhood_overview: string (nullable = true)\n",
      " |-- notes: string (nullable = true)\n",
      " |-- transit: string (nullable = true)\n",
      " |-- access: string (nullable = true)\n",
      " |-- interaction: string (nullable = true)\n",
      " |-- house_rules: string (nullable = true)\n",
      " |-- thumbnail_url: string (nullable = true)\n",
      " |-- medium_url: string (nullable = true)\n",
      " |-- picture_url: string (nullable = true)\n",
      " |-- xl_picture_url: string (nullable = true)\n",
      " |-- host_id: string (nullable = true)\n",
      " |-- host_url: string (nullable = true)\n",
      " |-- host_name: string (nullable = true)\n",
      " |-- host_since: string (nullable = true)\n",
      " |-- host_location: string (nullable = true)\n",
      " |-- host_about: string (nullable = true)\n",
      " |-- host_response_time: string (nullable = true)\n",
      " |-- host_response_rate: string (nullable = true)\n",
      " |-- host_acceptance_rate: string (nullable = true)\n",
      " |-- host_is_superhost: string (nullable = true)\n",
      " |-- host_thumbnail_url: string (nullable = true)\n",
      " |-- host_picture_url: string (nullable = true)\n",
      " |-- host_neighbourhood: string (nullable = true)\n",
      " |-- host_listings_count: string (nullable = true)\n",
      " |-- host_total_listings_count: string (nullable = true)\n",
      " |-- host_verifications: string (nullable = true)\n",
      " |-- host_has_profile_pic: string (nullable = true)\n",
      " |-- host_identity_verified: string (nullable = true)\n",
      " |-- street: string (nullable = true)\n",
      " |-- neighbourhood: string (nullable = true)\n",
      " |-- neighbourhood_cleansed: string (nullable = true)\n",
      " |-- neighbourhood_group_cleansed: string (nullable = true)\n",
      " |-- city: string (nullable = true)\n",
      " |-- state: string (nullable = true)\n",
      " |-- zipcode: string (nullable = true)\n",
      " |-- market: string (nullable = true)\n",
      " |-- smart_location: string (nullable = true)\n",
      " |-- country_code: string (nullable = true)\n",
      " |-- country: string (nullable = true)\n",
      " |-- latitude: string (nullable = true)\n",
      " |-- longitude: string (nullable = true)\n",
      " |-- is_location_exact: string (nullable = true)\n",
      " |-- property_type: string (nullable = true)\n",
      " |-- room_type: string (nullable = true)\n",
      " |-- accommodates: string (nullable = true)\n",
      " |-- bathrooms: string (nullable = true)\n",
      " |-- bedrooms: string (nullable = true)\n",
      " |-- beds: string (nullable = true)\n",
      " |-- bed_type: string (nullable = true)\n",
      " |-- amenities: string (nullable = true)\n",
      " |-- square_feet: string (nullable = true)\n",
      " |-- price: string (nullable = true)\n",
      " |-- weekly_price: string (nullable = true)\n",
      " |-- monthly_price: string (nullable = true)\n",
      " |-- security_deposit: string (nullable = true)\n",
      " |-- cleaning_fee: string (nullable = true)\n",
      " |-- guests_included: string (nullable = true)\n",
      " |-- extra_people: string (nullable = true)\n",
      " |-- minimum_nights: string (nullable = true)\n",
      " |-- maximum_nights: string (nullable = true)\n",
      " |-- minimum_minimum_nights: string (nullable = true)\n",
      " |-- maximum_minimum_nights: string (nullable = true)\n",
      " |-- minimum_maximum_nights: string (nullable = true)\n",
      " |-- maximum_maximum_nights: string (nullable = true)\n",
      " |-- minimum_nights_avg_ntm: string (nullable = true)\n",
      " |-- maximum_nights_avg_ntm: string (nullable = true)\n",
      " |-- calendar_updated: string (nullable = true)\n",
      " |-- has_availability: string (nullable = true)\n",
      " |-- availability_30: string (nullable = true)\n",
      " |-- availability_60: string (nullable = true)\n",
      " |-- availability_90: string (nullable = true)\n",
      " |-- availability_365: string (nullable = true)\n",
      " |-- calendar_last_scraped: string (nullable = true)\n",
      " |-- number_of_reviews: string (nullable = true)\n",
      " |-- number_of_reviews_ltm: string (nullable = true)\n",
      " |-- first_review: string (nullable = true)\n",
      " |-- last_review: string (nullable = true)\n",
      " |-- review_scores_rating: string (nullable = true)\n",
      " |-- review_scores_accuracy: string (nullable = true)\n",
      " |-- review_scores_cleanliness: string (nullable = true)\n",
      " |-- review_scores_checkin: string (nullable = true)\n",
      " |-- review_scores_communication: string (nullable = true)\n",
      " |-- review_scores_location: string (nullable = true)\n",
      " |-- review_scores_value: string (nullable = true)\n",
      " |-- requires_license: string (nullable = true)\n",
      " |-- license: string (nullable = true)\n",
      " |-- jurisdiction_names: string (nullable = true)\n",
      " |-- instant_bookable: string (nullable = true)\n",
      " |-- is_business_travel_ready: string (nullable = true)\n",
      " |-- cancellation_policy: string (nullable = true)\n",
      " |-- require_guest_profile_picture: string (nullable = true)\n",
      " |-- require_guest_phone_verification: string (nullable = true)\n",
      " |-- calculated_host_listings_count: string (nullable = true)\n",
      " |-- calculated_host_listings_count_entire_homes: string (nullable = true)\n",
      " |-- calculated_host_listings_count_private_rooms: string (nullable = true)\n",
      " |-- calculated_host_listings_count_shared_rooms: string (nullable = true)\n",
      " |-- reviews_per_month: string (nullable = true)\n",
      "\n",
      "106\n"
     ]
    }
   ],
   "source": [
    "# inferring schema from a small sample\n",
    "sample_df = spark.read.option(\"samplingRation\",0.001)\\\n",
    "            .option(\"header\",True).option(\"multiline\",True).csv(filepath)\n",
    "sample_df.printSchema()\n",
    "airbnb_schema = sample_df.schema\n",
    "print(len(airbnb_schema.fieldNames())) # -> 106\n"
   ]
  },
  {
   "cell_type": "code",
   "execution_count": 5,
   "metadata": {},
   "outputs": [
    {
     "name": "stdout",
     "output_type": "stream",
     "text": [
      "+-----------------+\n",
      "|amenities        |\n",
      "+-----------------+\n",
      "|\"{TV,\"\"Cable TV\"\"|\n",
      "+-----------------+\n",
      "only showing top 1 row\n",
      "\n"
     ]
    }
   ],
   "source": [
    "sample_df.select('amenities').show(n=1, truncate=False)\n",
    "# we have double quotes at the begining, and we're losing data... "
   ]
  },
  {
   "cell_type": "code",
   "execution_count": 6,
   "metadata": {},
   "outputs": [],
   "source": [
    "# get the sf-fire data from reading directly the file\n",
    "airbnb_df = spark.read.csv(filepath, header = True, schema= airbnb_schema,multiLine=True,escape='\"')\n",
    "# Multiline -> parse one record, which may span multiple lines, per file. CSV built-in functions ignore this option.\n",
    "# escape -> will remove double quotes at the begining"
   ]
  },
  {
   "cell_type": "code",
   "execution_count": 7,
   "metadata": {},
   "outputs": [
    {
     "name": "stdout",
     "output_type": "stream",
     "text": [
      "+-------------------------------------------------------------------------------------------------------------------------------------------------------------------------------------------------------------------------------------------------------------------------------------------------------------------------------------------------------------------------+\n",
      "|amenities                                                                                                                                                                                                                                                                                                                                                                |\n",
      "+-------------------------------------------------------------------------------------------------------------------------------------------------------------------------------------------------------------------------------------------------------------------------------------------------------------------------------------------------------------------------+\n",
      "|{TV,\"Cable TV\",Internet,Wifi,Kitchen,\"Pets live on this property\",Dog(s),Heating,\"Family/kid friendly\",Washer,Dryer,\"Smoke detector\",\"Carbon monoxide detector\",\"First aid kit\",Essentials,Shampoo,\"24-hour check-in\",Hangers,\"Hair dryer\",Iron,\"Laptop friendly workspace\",\"Self check-in\",Keypad,\"Private entrance\",\"Pack ’n Play/travel crib\",\"Room-darkening shades\"}|\n",
      "+-------------------------------------------------------------------------------------------------------------------------------------------------------------------------------------------------------------------------------------------------------------------------------------------------------------------------------------------------------------------------+\n",
      "only showing top 1 row\n",
      "\n"
     ]
    }
   ],
   "source": [
    "airbnb_df.select('amenities').show(n=1, truncate=False)"
   ]
  },
  {
   "cell_type": "code",
   "execution_count": 8,
   "metadata": {},
   "outputs": [],
   "source": [
    "# we have many columns, so we'll just keep this in line with the book\n",
    "columnsToKeep = [\n",
    "  \"host_is_superhost\",\n",
    "  \"cancellation_policy\",\n",
    "  \"instant_bookable\",\n",
    "  \"host_total_listings_count\",\n",
    "  \"neighbourhood_cleansed\",\n",
    "  \"latitude\",\n",
    "  \"longitude\",\n",
    "  \"property_type\",\n",
    "  \"room_type\",\n",
    "  \"accommodates\",\n",
    "  \"bathrooms\",\n",
    "  \"bedrooms\",\n",
    "  \"beds\",\n",
    "  \"bed_type\",\n",
    "  \"minimum_nights\",\n",
    "  \"number_of_reviews\",\n",
    "  \"review_scores_rating\",\n",
    "  \"review_scores_accuracy\",\n",
    "  \"review_scores_cleanliness\",\n",
    "  \"review_scores_checkin\",\n",
    "  \"review_scores_communication\",\n",
    "  \"review_scores_location\",\n",
    "  \"review_scores_value\",\n",
    "  \"price\"]"
   ]
  },
  {
   "cell_type": "code",
   "execution_count": 9,
   "metadata": {},
   "outputs": [
    {
     "name": "stderr",
     "output_type": "stream",
     "text": [
      "                                                                                \r"
     ]
    },
    {
     "data": {
      "text/plain": [
       "DataFrame[host_is_superhost: string, cancellation_policy: string, instant_bookable: string, host_total_listings_count: string, neighbourhood_cleansed: string, latitude: string, longitude: string, property_type: string, room_type: string, accommodates: string, bathrooms: string, bedrooms: string, beds: string, bed_type: string, minimum_nights: string, number_of_reviews: string, review_scores_rating: string, review_scores_accuracy: string, review_scores_cleanliness: string, review_scores_checkin: string, review_scores_communication: string, review_scores_location: string, review_scores_value: string, price: string]"
      ]
     },
     "metadata": {},
     "output_type": "display_data"
    }
   ],
   "source": [
    "airbnb_df = airbnb_df.select(columnsToKeep)\n",
    "airbnb_df.cache().count()\n",
    "display(airbnb_df)"
   ]
  },
  {
   "cell_type": "markdown",
   "metadata": {},
   "source": [
    "We have several quantitive categories as string. E.g.  host_total_listings_count, bedrooms, price, etc."
   ]
  },
  {
   "cell_type": "code",
   "execution_count": 10,
   "metadata": {},
   "outputs": [
    {
     "data": {
      "text/plain": [
       "Row(host_total_listings_count='1')"
      ]
     },
     "execution_count": 10,
     "metadata": {},
     "output_type": "execute_result"
    }
   ],
   "source": [
    "airbnb_df.select(\"host_total_listings_count\").collect()[0]"
   ]
  },
  {
   "cell_type": "code",
   "execution_count": 11,
   "metadata": {},
   "outputs": [
    {
     "data": {
      "text/plain": [
       "Row(price='$170.00')"
      ]
     },
     "execution_count": 11,
     "metadata": {},
     "output_type": "execute_result"
    }
   ],
   "source": [
    "airbnb_df.select(\"price\").collect()[0]"
   ]
  },
  {
   "cell_type": "code",
   "execution_count": 12,
   "metadata": {},
   "outputs": [
    {
     "data": {
      "text/plain": [
       "DataFrame[host_is_superhost: string, cancellation_policy: string, instant_bookable: string, host_total_listings_count: int, neighbourhood_cleansed: string, latitude: string, longitude: string, property_type: string, room_type: string, accommodates: string, bathrooms: int, bedrooms: int, beds: string, bed_type: string, minimum_nights: string, number_of_reviews: string, review_scores_rating: string, review_scores_accuracy: string, review_scores_cleanliness: string, review_scores_checkin: string, review_scores_communication: string, review_scores_location: string, review_scores_value: string, price: double]"
      ]
     },
     "metadata": {},
     "output_type": "display_data"
    }
   ],
   "source": [
    "airbnb_df = airbnb_df.withColumn(\"host_total_listings_count\", col(\"host_total_listings_count\").cast(\"int\"))\n",
    "airbnb_df = airbnb_df.withColumn(\"bathrooms\", col(\"bathrooms\").cast(\"int\"))\n",
    "airbnb_df = airbnb_df.withColumn(\"bedrooms\", col(\"bedrooms\").cast(\"int\"))\n",
    "airbnb_df = airbnb_df.withColumn(\"price\", translate(col(\"price\"), \"$,\", \"\").cast(\"double\"))\n",
    "# we could clean more, but this is just a p-o-c.\n",
    "display(airbnb_df)\n"
   ]
  },
  {
   "cell_type": "code",
   "execution_count": 13,
   "metadata": {},
   "outputs": [
    {
     "name": "stdout",
     "output_type": "stream",
     "text": [
      "+-------+------------------+\n",
      "|summary|             price|\n",
      "+-------+------------------+\n",
      "|  count|              7151|\n",
      "|   mean| 213.6540344007831|\n",
      "| stddev|313.28222046853125|\n",
      "|    min|               0.0|\n",
      "|    25%|             100.0|\n",
      "|    50%|             150.0|\n",
      "|    75%|             235.0|\n",
      "|    max|           10000.0|\n",
      "+-------+------------------+\n",
      "\n"
     ]
    }
   ],
   "source": [
    "airbnb_df.select(\"price\").summary().show()"
   ]
  },
  {
   "cell_type": "code",
   "execution_count": 14,
   "metadata": {},
   "outputs": [
    {
     "name": "stderr",
     "output_type": "stream",
     "text": [
      "[Stage 11:>                                                         (0 + 1) / 1]\r"
     ]
    },
    {
     "name": "stdout",
     "output_type": "stream",
     "text": [
      "-RECORD 0-------------------------------------------\n",
      " summary                     | count                \n",
      " host_is_superhost           | 7151                 \n",
      " cancellation_policy         | 7151                 \n",
      " instant_bookable            | 7151                 \n",
      " host_total_listings_count   | 7151                 \n",
      " neighbourhood_cleansed      | 7151                 \n",
      " latitude                    | 7151                 \n",
      " longitude                   | 7151                 \n",
      " property_type               | 7151                 \n",
      " room_type                   | 7151                 \n",
      " accommodates                | 7151                 \n",
      " bathrooms                   | 7130                 \n",
      " bedrooms                    | 7149                 \n",
      " beds                        | 7144                 \n",
      " bed_type                    | 7151                 \n",
      " minimum_nights              | 7151                 \n",
      " number_of_reviews           | 7151                 \n",
      " review_scores_rating        | 5730                 \n",
      " review_scores_accuracy      | 5726                 \n",
      " review_scores_cleanliness   | 5727                 \n",
      " review_scores_checkin       | 5724                 \n",
      " review_scores_communication | 5728                 \n",
      " review_scores_location      | 5724                 \n",
      " review_scores_value         | 5723                 \n",
      " price                       | 7151                 \n",
      "-RECORD 1-------------------------------------------\n",
      " summary                     | mean                 \n",
      " host_is_superhost           | null                 \n",
      " cancellation_policy         | null                 \n",
      " instant_bookable            | null                 \n",
      " host_total_listings_count   | 52.56957068941407    \n",
      " neighbourhood_cleansed      | null                 \n",
      " latitude                    | 37.76580945042649    \n",
      " longitude                   | -122.43052552230478  \n",
      " property_type               | null                 \n",
      " room_type                   | null                 \n",
      " accommodates                | 3.2009509159558105   \n",
      " bathrooms                   | 1.2775596072931277   \n",
      " bedrooms                    | 1.3425653937613653   \n",
      " beds                        | 1.7648376259798433   \n",
      " bed_type                    | null                 \n",
      " minimum_nights              | 14000.302335337716   \n",
      " number_of_reviews           | 43.52915676129213    \n",
      " review_scores_rating        | 95.54694589877836    \n",
      " review_scores_accuracy      | 9.775585050646175    \n",
      " review_scores_cleanliness   | 9.624934520691461    \n",
      " review_scores_checkin       | 9.870020964360586    \n",
      " review_scores_communication | 9.841305865921788    \n",
      " review_scores_location      | 9.64937106918239     \n",
      " review_scores_value         | 9.40573125982876     \n",
      " price                       | 213.6540344007831    \n",
      "-RECORD 2-------------------------------------------\n",
      " summary                     | stddev               \n",
      " host_is_superhost           | null                 \n",
      " cancellation_policy         | null                 \n",
      " instant_bookable            | null                 \n",
      " host_total_listings_count   | 177.37165167124357   \n",
      " neighbourhood_cleansed      | null                 \n",
      " latitude                    | 0.022527191846014046 \n",
      " longitude                   | 0.026791775802673057 \n",
      " property_type               | null                 \n",
      " room_type                   | null                 \n",
      " accommodates                | 1.9146923115947185   \n",
      " bathrooms                   | 0.7719036569412193   \n",
      " bedrooms                    | 0.9326852094201303   \n",
      " beds                        | 1.176852628831775    \n",
      " bed_type                    | null                 \n",
      " minimum_nights              | 1182541.9078980184   \n",
      " number_of_reviews           | 72.51922886627213    \n",
      " review_scores_rating        | 6.93515172677721     \n",
      " review_scores_accuracy      | 0.6651167005432524   \n",
      " review_scores_cleanliness   | 0.7683441047916056   \n",
      " review_scores_checkin       | 0.4979945098078443   \n",
      " review_scores_communication | 0.5794253386655072   \n",
      " review_scores_location      | 0.7198160859533849   \n",
      " review_scores_value         | 0.7969151479310892   \n",
      " price                       | 313.28222046853125   \n",
      "-RECORD 3-------------------------------------------\n",
      " summary                     | min                  \n",
      " host_is_superhost           | f                    \n",
      " cancellation_policy         | flexible             \n",
      " instant_bookable            | f                    \n",
      " host_total_listings_count   | 0                    \n",
      " neighbourhood_cleansed      | Bayview              \n",
      " latitude                    | 37.70743             \n",
      " longitude                   | -122.36979           \n",
      " property_type               | Aparthotel           \n",
      " room_type                   | Entire home/apt      \n",
      " accommodates                | 1                    \n",
      " bathrooms                   | 0                    \n",
      " bedrooms                    | 0                    \n",
      " beds                        | 0                    \n",
      " bed_type                    | Airbed               \n",
      " minimum_nights              | 1                    \n",
      " number_of_reviews           | 0                    \n",
      " review_scores_rating        | 100                  \n",
      " review_scores_accuracy      | 10                   \n",
      " review_scores_cleanliness   | 10                   \n",
      " review_scores_checkin       | 10                   \n",
      " review_scores_communication | 10                   \n",
      " review_scores_location      | 10                   \n",
      " review_scores_value         | 10                   \n",
      " price                       | 0.0                  \n",
      "-RECORD 4-------------------------------------------\n",
      " summary                     | 25%                  \n",
      " host_is_superhost           | null                 \n",
      " cancellation_policy         | null                 \n",
      " instant_bookable            | null                 \n",
      " host_total_listings_count   | 1                    \n",
      " neighbourhood_cleansed      | null                 \n",
      " latitude                    | 37.75111             \n",
      " longitude                   | -122.44298           \n",
      " property_type               | null                 \n",
      " room_type                   | null                 \n",
      " accommodates                | 2.0                  \n",
      " bathrooms                   | 1                    \n",
      " bedrooms                    | 1                    \n",
      " beds                        | 1.0                  \n",
      " bed_type                    | null                 \n",
      " minimum_nights              | 2.0                  \n",
      " number_of_reviews           | 1.0                  \n",
      " review_scores_rating        | 94.0                 \n",
      " review_scores_accuracy      | 10.0                 \n",
      " review_scores_cleanliness   | 9.0                  \n",
      " review_scores_checkin       | 10.0                 \n",
      " review_scores_communication | 10.0                 \n",
      " review_scores_location      | 9.0                  \n",
      " review_scores_value         | 9.0                  \n",
      " price                       | 100.0                \n",
      "-RECORD 5-------------------------------------------\n",
      " summary                     | 50%                  \n",
      " host_is_superhost           | null                 \n",
      " cancellation_policy         | null                 \n",
      " instant_bookable            | null                 \n",
      " host_total_listings_count   | 2                    \n",
      " neighbourhood_cleansed      | null                 \n",
      " latitude                    | 37.76748             \n",
      " longitude                   | -122.42548           \n",
      " property_type               | null                 \n",
      " room_type                   | null                 \n",
      " accommodates                | 2.0                  \n",
      " bathrooms                   | 1                    \n",
      " bedrooms                    | 1                    \n",
      " beds                        | 1.0                  \n",
      " bed_type                    | null                 \n",
      " minimum_nights              | 4.0                  \n",
      " number_of_reviews           | 11.0                 \n",
      " review_scores_rating        | 98.0                 \n",
      " review_scores_accuracy      | 10.0                 \n",
      " review_scores_cleanliness   | 10.0                 \n",
      " review_scores_checkin       | 10.0                 \n",
      " review_scores_communication | 10.0                 \n",
      " review_scores_location      | 10.0                 \n",
      " review_scores_value         | 10.0                 \n",
      " price                       | 150.0                \n",
      "-RECORD 6-------------------------------------------\n",
      " summary                     | 75%                  \n",
      " host_is_superhost           | null                 \n",
      " cancellation_policy         | null                 \n",
      " instant_bookable            | null                 \n",
      " host_total_listings_count   | 8                    \n",
      " neighbourhood_cleansed      | null                 \n",
      " latitude                    | 37.78461             \n",
      " longitude                   | -122.41107           \n",
      " property_type               | null                 \n",
      " room_type                   | null                 \n",
      " accommodates                | 4.0                  \n",
      " bathrooms                   | 1                    \n",
      " bedrooms                    | 2                    \n",
      " beds                        | 2.0                  \n",
      " bed_type                    | null                 \n",
      " minimum_nights              | 30.0                 \n",
      " number_of_reviews           | 54.0                 \n",
      " review_scores_rating        | 100.0                \n",
      " review_scores_accuracy      | 10.0                 \n",
      " review_scores_cleanliness   | 10.0                 \n",
      " review_scores_checkin       | 10.0                 \n",
      " review_scores_communication | 10.0                 \n",
      " review_scores_location      | 10.0                 \n",
      " review_scores_value         | 10.0                 \n",
      " price                       | 235.0                \n",
      "-RECORD 7-------------------------------------------\n",
      " summary                     | max                  \n",
      " host_is_superhost           | t                    \n",
      " cancellation_policy         | super_strict_60      \n",
      " instant_bookable            | t                    \n",
      " host_total_listings_count   | 1199                 \n",
      " neighbourhood_cleansed      | Western Addition     \n",
      " latitude                    | 37.81031             \n",
      " longitude                   | -122.51306           \n",
      " property_type               | Villa                \n",
      " room_type                   | Shared room          \n",
      " accommodates                | 9                    \n",
      " bathrooms                   | 14                   \n",
      " bedrooms                    | 14                   \n",
      " beds                        | 9                    \n",
      " bed_type                    | Real Bed             \n",
      " minimum_nights              | 999                  \n",
      " number_of_reviews           | 99                   \n",
      " review_scores_rating        | 99                   \n",
      " review_scores_accuracy      | 9                    \n",
      " review_scores_cleanliness   | 9                    \n",
      " review_scores_checkin       | 9                    \n",
      " review_scores_communication | 9                    \n",
      " review_scores_location      | 9                    \n",
      " review_scores_value         | 9                    \n",
      " price                       | 10000.0              \n",
      "\n"
     ]
    },
    {
     "name": "stderr",
     "output_type": "stream",
     "text": [
      "                                                                                \r"
     ]
    }
   ],
   "source": [
    "airbnb_df.summary().show(vertical=True)\n",
    "# press the rightmost blue link below to see the full results."
   ]
  },
  {
   "cell_type": "markdown",
   "metadata": {},
   "source": [
    "### Nulls and Imputation"
   ]
  },
  {
   "cell_type": "markdown",
   "metadata": {},
   "source": [
    "\n",
    "If we do any imputation techniques for categorical/numerical features, \n",
    "we MUST include an additional column specifying that field was imputed."
   ]
  },
  {
   "cell_type": "code",
   "execution_count": 15,
   "metadata": {},
   "outputs": [
    {
     "data": {
      "text/plain": [
       "['bathrooms',\n",
       " 'bedrooms',\n",
       " 'beds',\n",
       " 'review_scores_rating',\n",
       " 'review_scores_accuracy',\n",
       " 'review_scores_cleanliness',\n",
       " 'review_scores_checkin',\n",
       " 'review_scores_communication',\n",
       " 'review_scores_location',\n",
       " 'review_scores_value']"
      ]
     },
     "execution_count": 15,
     "metadata": {},
     "output_type": "execute_result"
    }
   ],
   "source": [
    "cols_with_nulls = [x for x in airbnb_df.columns if airbnb_df.filter(col(x).isNull()).count() > 0]\n",
    "cols_with_nulls # columns with null values"
   ]
  },
  {
   "cell_type": "code",
   "execution_count": 16,
   "metadata": {},
   "outputs": [],
   "source": [
    "air_test= airbnb_df"
   ]
  },
  {
   "cell_type": "code",
   "execution_count": 17,
   "metadata": {},
   "outputs": [],
   "source": [
    "air_test=(air_test.withColumn(\"bathrooms_null_dummy\", \n",
    "                    col(\"bathrooms\").isNull().cast(\"int\")))"
   ]
  },
  {
   "cell_type": "code",
   "execution_count": 18,
   "metadata": {},
   "outputs": [
    {
     "data": {
      "text/plain": [
       "21"
      ]
     },
     "execution_count": 18,
     "metadata": {},
     "output_type": "execute_result"
    }
   ],
   "source": [
    "air_test.filter(col(\"bathrooms\").isNull()).select(\"bathrooms\").count()"
   ]
  },
  {
   "cell_type": "code",
   "execution_count": 19,
   "metadata": {},
   "outputs": [
    {
     "data": {
      "text/plain": [
       "21"
      ]
     },
     "execution_count": 19,
     "metadata": {},
     "output_type": "execute_result"
    }
   ],
   "source": [
    "air_test.filter(col(\"bathrooms_null_dummy\") == 1).select(\"bathrooms\").count()\n",
    "# we've created a one-hot encoder for Null values in bathrooms column"
   ]
  },
  {
   "cell_type": "code",
   "execution_count": 20,
   "metadata": {},
   "outputs": [],
   "source": [
    "airbnb_df = (airbnb_df.withColumn(\"bathrooms_null_dummy\", \n",
    "                    col(\"bathrooms\").isNull().cast(\"int\")))"
   ]
  },
  {
   "cell_type": "code",
   "execution_count": 21,
   "metadata": {},
   "outputs": [],
   "source": [
    "airbnb_df = airbnb_df.na.drop(subset=[\"host_is_superhost\"])"
   ]
  },
  {
   "cell_type": "markdown",
   "metadata": {},
   "source": [
    "Using SparkML's Imputer"
   ]
  },
  {
   "cell_type": "code",
   "execution_count": 19,
   "metadata": {},
   "outputs": [
    {
     "data": {
      "text/plain": [
       "['bathrooms',\n",
       " 'bedrooms',\n",
       " 'beds',\n",
       " 'review_scores_rating',\n",
       " 'review_scores_accuracy',\n",
       " 'review_scores_cleanliness',\n",
       " 'review_scores_checkin',\n",
       " 'review_scores_communication',\n",
       " 'review_scores_location',\n",
       " 'review_scores_value']"
      ]
     },
     "execution_count": 19,
     "metadata": {},
     "output_type": "execute_result"
    }
   ],
   "source": [
    "imputeCols = cols_with_nulls\n",
    "\n",
    "#  [\n",
    "#   \"bedrooms\",\n",
    "#   \"bathrooms\",\n",
    "#   \"beds\", \n",
    "#   \"review_scores_rating\",\n",
    "#   \"review_scores_accuracy\",\n",
    "#   \"review_scores_cleanliness\",\n",
    "#   \"review_scores_checkin\",\n",
    "#   \"review_scores_communication\",\n",
    "#   \"review_scores_location\",\n",
    "#   \"review_scores_value\"\n",
    "# ]\n",
    "imputeCols"
   ]
  },
  {
   "cell_type": "code",
   "execution_count": 20,
   "metadata": {},
   "outputs": [
    {
     "name": "stdout",
     "output_type": "stream",
     "text": [
      "Columns converted from Integer to Double (in imputeCols):\n",
      " - bathrooms\n",
      " - bedrooms\n",
      " - beds\n",
      " - review_scores_rating\n",
      " - review_scores_accuracy\n",
      " - review_scores_cleanliness\n",
      " - review_scores_checkin\n",
      " - review_scores_communication\n",
      " - review_scores_location\n",
      " - review_scores_value\n"
     ]
    }
   ],
   "source": [
    "# we need to cast everything to double\n",
    "integerColumns = [x.name for x in airbnb_df.schema.fields \n",
    "                   if x.dataType != DoubleType() and x.name in imputeCols]\n",
    "\n",
    "for c in integerColumns:\n",
    "  airbnb_df = airbnb_df.withColumn(c, col(c).cast(\"double\"))\n",
    "\n",
    "columns = \"\\n - \".join(integerColumns)\n",
    "print(f\"Columns converted from Integer to Double (in imputeCols):\\n - {columns}\")"
   ]
  },
  {
   "cell_type": "code",
   "execution_count": 21,
   "metadata": {},
   "outputs": [],
   "source": [
    "for c in imputeCols:\n",
    "  airbnb_df = airbnb_df.withColumn(c + \"_na_dummy\", when(col(c).isNull(), 1.0).otherwise(0.0))"
   ]
  },
  {
   "cell_type": "code",
   "execution_count": 179,
   "metadata": {},
   "outputs": [
    {
     "data": {
      "text/plain": [
       "['host_is_superhost',\n",
       " 'cancellation_policy',\n",
       " 'instant_bookable',\n",
       " 'host_total_listings_count',\n",
       " 'neighbourhood_cleansed',\n",
       " 'latitude',\n",
       " 'longitude',\n",
       " 'property_type',\n",
       " 'room_type',\n",
       " 'accommodates',\n",
       " 'bathrooms',\n",
       " 'bedrooms',\n",
       " 'beds',\n",
       " 'bed_type',\n",
       " 'minimum_nights',\n",
       " 'number_of_reviews',\n",
       " 'review_scores_rating',\n",
       " 'review_scores_accuracy',\n",
       " 'review_scores_cleanliness',\n",
       " 'review_scores_checkin',\n",
       " 'review_scores_communication',\n",
       " 'review_scores_location',\n",
       " 'review_scores_value',\n",
       " 'price',\n",
       " 'bedrooms_na_dummy',\n",
       " 'bathrooms_na_dummy',\n",
       " 'beds_na_dummy',\n",
       " 'review_scores_rating_na_dummy',\n",
       " 'review_scores_accuracy_na_dummy',\n",
       " 'review_scores_cleanliness_na_dummy',\n",
       " 'review_scores_checkin_na_dummy',\n",
       " 'review_scores_communication_na_dummy',\n",
       " 'review_scores_location_na_dummy',\n",
       " 'review_scores_value_na_dummy']"
      ]
     },
     "execution_count": 179,
     "metadata": {},
     "output_type": "execute_result"
    }
   ],
   "source": [
    "airbnb_df.columns"
   ]
  },
  {
   "cell_type": "code",
   "execution_count": 22,
   "metadata": {},
   "outputs": [],
   "source": [
    "\n",
    "imputer = Imputer(strategy=\"median\", inputCols=imputeCols, outputCols=imputeCols)\n",
    "# we need to define the outputCols as the imputeCols when doing multicolumn imputation\n",
    "airbnb_df = imputer.fit(airbnb_df).transform(airbnb_df)"
   ]
  },
  {
   "cell_type": "code",
   "execution_count": 23,
   "metadata": {},
   "outputs": [
    {
     "data": {
      "text/plain": [
       "[]"
      ]
     },
     "execution_count": 23,
     "metadata": {},
     "output_type": "execute_result"
    }
   ],
   "source": [
    "cols_with_nulls_2 = [x for x in airbnb_df.columns if airbnb_df.filter(col(x).isNull()).count() > 0]\n",
    "cols_with_nulls_2 # empty because we've imputed the non-null values into the columns"
   ]
  },
  {
   "cell_type": "code",
   "execution_count": null,
   "metadata": {},
   "outputs": [],
   "source": []
  }
 ],
 "metadata": {
  "kernelspec": {
   "display_name": "Python 3.10.4 ('.spark_env': venv)",
   "language": "python",
   "name": "python3"
  },
  "language_info": {
   "codemirror_mode": {
    "name": "ipython",
    "version": 3
   },
   "file_extension": ".py",
   "mimetype": "text/x-python",
   "name": "python",
   "nbconvert_exporter": "python",
   "pygments_lexer": "ipython3",
   "version": "3.10.4"
  },
  "orig_nbformat": 4,
  "vscode": {
   "interpreter": {
    "hash": "cad669ada231548fc6a6bcdb5e46bad24e3100816ded594559296e7eb00606c7"
   }
  }
 },
 "nbformat": 4,
 "nbformat_minor": 2
}
